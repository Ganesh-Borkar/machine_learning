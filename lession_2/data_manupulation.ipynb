{
 "cells": [
  {
   "cell_type": "code",
   "execution_count": 1,
   "metadata": {},
   "outputs": [],
   "source": [
    "import pandas as pd\n",
    "import matplotlib.pyplot as plt\n",
    "import seaborn as sns\n",
    "import numpy as np\n"
   ]
  },
  {
   "cell_type": "code",
   "execution_count": 2,
   "metadata": {},
   "outputs": [
    {
     "name": "stdout",
     "output_type": "stream",
     "text": [
      "[ 1  2  3  4  5  6  7  8  9 10 11 12 13 14 15 16 17 18 19 20 21 22 23 24\n",
      " 25 26 27 28 29 30 31 32 33 34 35 36 37 38 39 40 41 42 43 44 45 46 47 48\n",
      " 49 50]\n"
     ]
    }
   ],
   "source": [
    "\n",
    "df=pd.Series(np.arange(1,51))\n",
    "print(df.values)"
   ]
  },
  {
   "cell_type": "markdown",
   "metadata": {},
   "source": [
    "### groupby()"
   ]
  },
  {
   "cell_type": "code",
   "execution_count": 3,
   "metadata": {},
   "outputs": [
    {
     "name": "stdout",
     "output_type": "stream",
     "text": [
      "{('Australia', 1): [3, 6, 7, 8, 10], ('India', 2): [2, 9], ('Pakistan', 6): [4], ('Sri Lanka', 4): [5], ('West Indies', 7): [0, 1]}\n"
     ]
    }
   ],
   "source": [
    "world_cup={'Team':['West Indies','West Indies','India','Australia','Pakistan','Sri Lanka','Australia','Australia','Australia','India','Australia'],\n",
    "'Rank':[7,7,2,1,6,4,1,1,1,2,1], \n",
    "'Year':[1975,1979,1983,1987,1992,1996,1999,2003,2007,2011,2015]}\n",
    "df=pd.DataFrame(world_cup)\n",
    "print(df.groupby(['Team','Rank']).groups)\n"
   ]
  },
  {
   "cell_type": "code",
   "execution_count": 4,
   "metadata": {},
   "outputs": [
    {
     "name": "stdout",
     "output_type": "stream",
     "text": [
      "          Team  ICC_rank  World_champions_Year  Points          Team  \\\n",
      "0        India         2                  2011     874  South Africa   \n",
      "1    Australia         3                  2015     787   New Zealand   \n",
      "2  West Indies         7                  1979     753      Zimbabwe   \n",
      "3     Pakistan         8                  1992     673           NaN   \n",
      "4    Sri Lanka         4                  1996     855           NaN   \n",
      "\n",
      "   ICC_rank  Points  \n",
      "0       1.0   895.0  \n",
      "1       5.0   764.0  \n",
      "2       9.0   656.0  \n",
      "3       NaN     NaN  \n",
      "4       NaN     NaN  \n"
     ]
    }
   ],
   "source": [
    "world_champions={'Team':['India','Australia','West Indies','Pakistan','Sri Lanka'], \n",
    "'ICC_rank':[2,3,7,8,4], \n",
    "'World_champions_Year':[2011,2015,1979,1992,1996],\n",
    "'Points':[874,787,753,673,855]}\n",
    "chokers={'Team':['South Africa','New Zealand','Zimbabwe'],'ICC_rank':[1,5,9],'Points':[895,764,656]}\n",
    "df1=pd.DataFrame(world_champions)\n",
    "df2=pd.DataFrame(chokers)\n",
    "print(pd.concat([df1,df2],axis=1))\n"
   ]
  },
  {
   "cell_type": "code",
   "execution_count": 5,
   "metadata": {},
   "outputs": [
    {
     "name": "stdout",
     "output_type": "stream",
     "text": [
      "          Team  ICC_rank  World_champions_Year  Points\n",
      "0        India         2                  2011     874\n",
      "1    Australia         3                  2015     787\n",
      "2  West Indies         7                  1979     753\n",
      "3     Pakistan         8                  1992     673\n",
      "4    Sri Lanka         4                  1996     855\n",
      "          Team  World_cup_played  ODIs_played\n",
      "0        India                11          733\n",
      "1    Australia                10          988\n",
      "2  West Indies                11          712\n",
      "3     Pakistan                 9          679\n",
      "4    Sri Lanka                 8          662\n",
      "          Team  ICC_rank  World_champions_Year  Points  World_cup_played  \\\n",
      "0        India         2                  2011     874                11   \n",
      "1    Australia         3                  2015     787                10   \n",
      "2  West Indies         7                  1979     753                11   \n",
      "3     Pakistan         8                  1992     673                 9   \n",
      "4    Sri Lanka         4                  1996     855                 8   \n",
      "\n",
      "   ODIs_played  \n",
      "0          733  \n",
      "1          988  \n",
      "2          712  \n",
      "3          679  \n",
      "4          662  \n"
     ]
    }
   ],
   "source": [
    "champion_stats={'Team':['India','Australia','West Indies','Pakistan','Sri Lanka'],\n",
    "'ICC_rank':[2,3,7,8,4], \n",
    "'World_champions_Year':[2011,2015,1979,1992,1996],\n",
    "'Points':[874,787,753,673,855]}\n",
    "match_stats={'Team':['India','Australia','West Indies','Pakistan','Sri Lanka'],'World_cup_played':[11,10,11,9,8],\n",
    "'ODIs_played':[733,988,712,679,662]}\n",
    "df1=pd.DataFrame(champion_stats)\n",
    "df2=pd.DataFrame(match_stats)\n",
    "print(df1)\n",
    "print(df2) \n",
    "print(pd.merge(df1,df2,on='Team'))\n"
   ]
  },
  {
   "cell_type": "code",
   "execution_count": 6,
   "metadata": {},
   "outputs": [
    {
     "name": "stdout",
     "output_type": "stream",
     "text": [
      "          Team  ICC_rank_x  World_champions_Year  Points_x  ICC_rank_y  \\\n",
      "0        India           2                  2011       874         NaN   \n",
      "1    Australia           3                  2015       787         NaN   \n",
      "2  West Indies           7                  1979       753         NaN   \n",
      "3     Pakistan           8                  1992       673         NaN   \n",
      "4    Sri Lanka           4                  1996       855         NaN   \n",
      "\n",
      "   Points_y  \n",
      "0       NaN  \n",
      "1       NaN  \n",
      "2       NaN  \n",
      "3       NaN  \n",
      "4       NaN  \n"
     ]
    }
   ],
   "source": [
    "world_champions={'Team':['India','Australia','West Indies','Pakistan','Sri Lanka'],\n",
    "'ICC_rank':[2,3,7,8,4], \n",
    "'World_champions_Year':[2011,2015,1979,1992,1996],\n",
    "'Points':[874,787,753,673,855]}\n",
    "chokers={'Team':['South Africa','New Zealand','Zimbabwe'], \n",
    "'ICC_rank':[1,5,9],'Points':[895,764,656]}\n",
    "df1=pd.DataFrame(world_champions)\n",
    "df2=pd.DataFrame(chokers)\n",
    "print(pd.merge(df1,df2,on='Team',how='left'))"
   ]
  },
  {
   "cell_type": "code",
   "execution_count": 11,
   "metadata": {},
   "outputs": [
    {
     "name": "stdout",
     "output_type": "stream",
     "text": [
      "           Team  ICC_rank_x  World_champions_Year  Points_x  ICC_rank_y  \\\n",
      "0         India         2.0                2011.0     874.0         NaN   \n",
      "1     Australia         3.0                2015.0     787.0         NaN   \n",
      "2   West Indies         7.0                1979.0     753.0         NaN   \n",
      "3      Pakistan         8.0                1992.0     673.0         NaN   \n",
      "4     Sri Lanka         4.0                1996.0     855.0         NaN   \n",
      "5  South Africa         NaN                   NaN       NaN         1.0   \n",
      "6   New Zealand         NaN                   NaN       NaN         5.0   \n",
      "7      Zimbabwe         NaN                   NaN       NaN         9.0   \n",
      "\n",
      "   Points_y  \n",
      "0       NaN  \n",
      "1       NaN  \n",
      "2       NaN  \n",
      "3       NaN  \n",
      "4       NaN  \n",
      "5     895.0  \n",
      "6     764.0  \n",
      "7     656.0  \n"
     ]
    }
   ],
   "source": [
    "print(pd.merge(df1,df2,on='Team',how='outer'))"
   ]
  },
  {
   "cell_type": "code",
   "execution_count": null,
   "metadata": {},
   "outputs": [],
   "source": []
  }
 ],
 "metadata": {
  "interpreter": {
   "hash": "d13e249ff62d56e0a56769b1764d8cc914afe13dfa6c7a9341700791b1af3a79"
  },
  "kernelspec": {
   "display_name": "Python 3 (ipykernel)",
   "language": "python",
   "name": "python3"
  },
  "language_info": {
   "codemirror_mode": {
    "name": "ipython",
    "version": 3
   },
   "file_extension": ".py",
   "mimetype": "text/x-python",
   "name": "python",
   "nbconvert_exporter": "python",
   "pygments_lexer": "ipython3",
   "version": "3.10.5"
  }
 },
 "nbformat": 4,
 "nbformat_minor": 2
}
