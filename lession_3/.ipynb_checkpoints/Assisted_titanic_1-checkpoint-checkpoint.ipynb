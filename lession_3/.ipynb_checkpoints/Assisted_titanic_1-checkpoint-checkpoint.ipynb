{
 "cells": [
  {
   "cell_type": "markdown",
   "metadata": {},
   "source": [
    "                                                     **Sinking of Titanic**\n",
    "![Image of Titanic](http://www.titanicuniverse.com/wp-content/uploads/2009/12/titanic-disaster-300x244.jpg)\n",
    "\n",
    "\n",
    "The sinking of the RMS Titanic is one of the most infamous shipwrecks in history. On April 15, 1912, during her maiden voyage, the Titanic sank after colliding with an iceberg, killing 1502 out of 2224 passengers and crew. This sensational tragedy shocked the international community and led to better safety regulations for ships.\n",
    "\n",
    "One of the reasons that the shipwreck led to such loss of life was that there were not enough lifeboats for the passengers and crew. Although there was some element of luck involved in surviving the sinking, some groups of people were more likely to survive than others, such as women, children, and the upper-class.\n",
    "\n",
    "Do a complete analysis on what sorts of people were likely to survive. "
   ]
  },
  {
   "cell_type": "code",
   "execution_count": 1,
   "metadata": {},
   "outputs": [],
   "source": [
    "\n",
    "import pandas as pd\n",
    "import numpy as np\n",
    "\n",
    "# import plotting libraries\n",
    "import matplotlib\n",
    "import matplotlib.pyplot as plt\n",
    "import pandas as pd\n",
    "from pandas.plotting import scatter_matrix\n",
    "%matplotlib inline \n",
    "\n",
    "import seaborn as sns\n",
    "sns.set(style=\"white\", color_codes=True)\n",
    "sns.set(font_scale=1.5)\n",
    "\n",
    "# import libraries for model use and validation\n",
    "\n",
    "from sklearn.linear_model import LogisticRegression\n",
    "from sklearn.model_selection import train_test_split\n",
    "\n",
    "# import libraries for metrics and reporting\n",
    "from sklearn.metrics import confusion_matrix\n",
    "from sklearn.metrics import classification_report\n",
    "from sklearn.metrics import accuracy_score\n",
    "from sklearn.metrics import precision_score\n",
    "from sklearn.metrics import recall_score\n",
    "from sklearn.metrics import f1_score\n",
    "from sklearn import metrics\n",
    "from sklearn.metrics import classification_report\n",
    "\n",
    "import warnings \n",
    "warnings.filterwarnings('ignore')"
   ]
  },
  {
   "cell_type": "code",
   "execution_count": 2,
   "metadata": {},
   "outputs": [
    {
     "data": {
      "text/plain": [
       "(891, 12)"
      ]
     },
     "execution_count": 2,
     "metadata": {},
     "output_type": "execute_result"
    }
   ],
   "source": [
    "df_train = pd.read_csv(r\"C:\\Data sets\\demo dataset ml\\Lesson 4\\train.csv\")\n",
    "df_train.shape"
   ]
  },
  {
   "cell_type": "code",
   "execution_count": 3,
   "metadata": {},
   "outputs": [
    {
     "data": {
      "text/html": [
       "<div>\n",
       "<style scoped>\n",
       "    .dataframe tbody tr th:only-of-type {\n",
       "        vertical-align: middle;\n",
       "    }\n",
       "\n",
       "    .dataframe tbody tr th {\n",
       "        vertical-align: top;\n",
       "    }\n",
       "\n",
       "    .dataframe thead th {\n",
       "        text-align: right;\n",
       "    }\n",
       "</style>\n",
       "<table border=\"1\" class=\"dataframe\">\n",
       "  <thead>\n",
       "    <tr style=\"text-align: right;\">\n",
       "      <th></th>\n",
       "      <th>PassengerId</th>\n",
       "      <th>Survived</th>\n",
       "      <th>Pclass</th>\n",
       "      <th>Name</th>\n",
       "      <th>Sex</th>\n",
       "      <th>Age</th>\n",
       "      <th>SibSp</th>\n",
       "      <th>Parch</th>\n",
       "      <th>Ticket</th>\n",
       "      <th>Fare</th>\n",
       "      <th>Cabin</th>\n",
       "      <th>Embarked</th>\n",
       "    </tr>\n",
       "  </thead>\n",
       "  <tbody>\n",
       "    <tr>\n",
       "      <th>0</th>\n",
       "      <td>1</td>\n",
       "      <td>0</td>\n",
       "      <td>3</td>\n",
       "      <td>Braund, Mr. Owen Harris</td>\n",
       "      <td>male</td>\n",
       "      <td>22.0</td>\n",
       "      <td>1</td>\n",
       "      <td>0</td>\n",
       "      <td>A/5 21171</td>\n",
       "      <td>7.2500</td>\n",
       "      <td>NaN</td>\n",
       "      <td>S</td>\n",
       "    </tr>\n",
       "    <tr>\n",
       "      <th>1</th>\n",
       "      <td>2</td>\n",
       "      <td>1</td>\n",
       "      <td>1</td>\n",
       "      <td>Cumings, Mrs. John Bradley (Florence Briggs Th...</td>\n",
       "      <td>female</td>\n",
       "      <td>38.0</td>\n",
       "      <td>1</td>\n",
       "      <td>0</td>\n",
       "      <td>PC 17599</td>\n",
       "      <td>71.2833</td>\n",
       "      <td>C85</td>\n",
       "      <td>C</td>\n",
       "    </tr>\n",
       "    <tr>\n",
       "      <th>2</th>\n",
       "      <td>3</td>\n",
       "      <td>1</td>\n",
       "      <td>3</td>\n",
       "      <td>Heikkinen, Miss. Laina</td>\n",
       "      <td>female</td>\n",
       "      <td>26.0</td>\n",
       "      <td>0</td>\n",
       "      <td>0</td>\n",
       "      <td>STON/O2. 3101282</td>\n",
       "      <td>7.9250</td>\n",
       "      <td>NaN</td>\n",
       "      <td>S</td>\n",
       "    </tr>\n",
       "    <tr>\n",
       "      <th>3</th>\n",
       "      <td>4</td>\n",
       "      <td>1</td>\n",
       "      <td>1</td>\n",
       "      <td>Futrelle, Mrs. Jacques Heath (Lily May Peel)</td>\n",
       "      <td>female</td>\n",
       "      <td>35.0</td>\n",
       "      <td>1</td>\n",
       "      <td>0</td>\n",
       "      <td>113803</td>\n",
       "      <td>53.1000</td>\n",
       "      <td>C123</td>\n",
       "      <td>S</td>\n",
       "    </tr>\n",
       "    <tr>\n",
       "      <th>4</th>\n",
       "      <td>5</td>\n",
       "      <td>0</td>\n",
       "      <td>3</td>\n",
       "      <td>Allen, Mr. William Henry</td>\n",
       "      <td>male</td>\n",
       "      <td>35.0</td>\n",
       "      <td>0</td>\n",
       "      <td>0</td>\n",
       "      <td>373450</td>\n",
       "      <td>8.0500</td>\n",
       "      <td>NaN</td>\n",
       "      <td>S</td>\n",
       "    </tr>\n",
       "  </tbody>\n",
       "</table>\n",
       "</div>"
      ],
      "text/plain": [
       "   PassengerId  Survived  Pclass  \\\n",
       "0            1         0       3   \n",
       "1            2         1       1   \n",
       "2            3         1       3   \n",
       "3            4         1       1   \n",
       "4            5         0       3   \n",
       "\n",
       "                                                Name     Sex   Age  SibSp  \\\n",
       "0                            Braund, Mr. Owen Harris    male  22.0      1   \n",
       "1  Cumings, Mrs. John Bradley (Florence Briggs Th...  female  38.0      1   \n",
       "2                             Heikkinen, Miss. Laina  female  26.0      0   \n",
       "3       Futrelle, Mrs. Jacques Heath (Lily May Peel)  female  35.0      1   \n",
       "4                           Allen, Mr. William Henry    male  35.0      0   \n",
       "\n",
       "   Parch            Ticket     Fare Cabin Embarked  \n",
       "0      0         A/5 21171   7.2500   NaN        S  \n",
       "1      0          PC 17599  71.2833   C85        C  \n",
       "2      0  STON/O2. 3101282   7.9250   NaN        S  \n",
       "3      0            113803  53.1000  C123        S  \n",
       "4      0            373450   8.0500   NaN        S  "
      ]
     },
     "execution_count": 3,
     "metadata": {},
     "output_type": "execute_result"
    }
   ],
   "source": [
    "df_train.head()"
   ]
  },
  {
   "cell_type": "code",
   "execution_count": 4,
   "metadata": {},
   "outputs": [
    {
     "data": {
      "text/plain": [
       "0    549\n",
       "1    342\n",
       "Name: Survived, dtype: int64"
      ]
     },
     "execution_count": 4,
     "metadata": {},
     "output_type": "execute_result"
    }
   ],
   "source": [
    "# see distinct values in the survived column\n",
    "df_train.Survived.value_counts()"
   ]
  },
  {
   "cell_type": "code",
   "execution_count": 5,
   "metadata": {},
   "outputs": [
    {
     "data": {
      "text/plain": [
       "male      577\n",
       "female    314\n",
       "Name: Sex, dtype: int64"
      ]
     },
     "execution_count": 5,
     "metadata": {},
     "output_type": "execute_result"
    }
   ],
   "source": [
    "# see distinct values in the Sex column\n",
    "df_train.Sex.value_counts()"
   ]
  },
  {
   "cell_type": "code",
   "execution_count": 6,
   "metadata": {},
   "outputs": [
    {
     "data": {
      "text/plain": [
       "S    644\n",
       "C    168\n",
       "Q     77\n",
       "Name: Embarked, dtype: int64"
      ]
     },
     "execution_count": 6,
     "metadata": {},
     "output_type": "execute_result"
    }
   ],
   "source": [
    "# see distinct values in the Embarked column\n",
    "df_train.Embarked.value_counts()"
   ]
  },
  {
   "cell_type": "code",
   "execution_count": 7,
   "metadata": {},
   "outputs": [
    {
     "data": {
      "text/plain": [
       "PassengerId      0\n",
       "Survived         0\n",
       "Pclass           0\n",
       "Name             0\n",
       "Sex              0\n",
       "Age            177\n",
       "SibSp            0\n",
       "Parch            0\n",
       "Ticket           0\n",
       "Fare             0\n",
       "Cabin          687\n",
       "Embarked         2\n",
       "dtype: int64"
      ]
     },
     "execution_count": 7,
     "metadata": {},
     "output_type": "execute_result"
    }
   ],
   "source": [
    "# Checking for missing values\n",
    "df_train.isnull().sum()"
   ]
  },
  {
   "cell_type": "code",
   "execution_count": 8,
   "metadata": {},
   "outputs": [],
   "source": [
    "# There are only 891 rows in the titanic data frame. Cabin is almost 80% missing values, \n",
    "# we will drop that variable completely, \n",
    "\n",
    "# What about age? \n",
    "# Age seems like a relevant predictor for survival right? We'd want to keep the variables, \n",
    "# but it has 177 missing values.  \n",
    "\n",
    "# Need to find a way to approximate for those missing values!"
   ]
  },
  {
   "cell_type": "code",
   "execution_count": 9,
   "metadata": {},
   "outputs": [],
   "source": [
    "# drop all the variables that aren't relevant for predicting survival. \n",
    "# We should at least keep the following:\n",
    "\n",
    "# Survived - This variable is obviously relevant.\n",
    "# Pclass   - Does a passenger's class on the boat affect their survivability?\n",
    "# Sex      - Could a passenger's gender impact their survival rate?\n",
    "# Age      - Does a person's age impact their survival rate?\n",
    "# SibSp    - Does the number of relatives on the boat (that are siblings or a spouse) \n",
    "#            affect a person survivability? Probability\n",
    "# Parch    - Does the number of relatives on the boat (that are children or parents) \n",
    "#            affect a person survivability? Probability\n",
    "# Fare     - Does the fare a person paid effect his survivability? Maybe - let's keep it.\n",
    "# Embarked - Does a person's point of embarkation matter? \n",
    "#            It depends on how the boat was filled... Let's keep it."
   ]
  },
  {
   "cell_type": "code",
   "execution_count": 8,
   "metadata": {},
   "outputs": [
    {
     "data": {
      "text/html": [
       "<div>\n",
       "<style scoped>\n",
       "    .dataframe tbody tr th:only-of-type {\n",
       "        vertical-align: middle;\n",
       "    }\n",
       "\n",
       "    .dataframe tbody tr th {\n",
       "        vertical-align: top;\n",
       "    }\n",
       "\n",
       "    .dataframe thead th {\n",
       "        text-align: right;\n",
       "    }\n",
       "</style>\n",
       "<table border=\"1\" class=\"dataframe\">\n",
       "  <thead>\n",
       "    <tr style=\"text-align: right;\">\n",
       "      <th></th>\n",
       "      <th>Survived</th>\n",
       "      <th>Pclass</th>\n",
       "      <th>Sex</th>\n",
       "      <th>Age</th>\n",
       "      <th>SibSp</th>\n",
       "      <th>Parch</th>\n",
       "      <th>Fare</th>\n",
       "      <th>Embarked</th>\n",
       "    </tr>\n",
       "  </thead>\n",
       "  <tbody>\n",
       "    <tr>\n",
       "      <th>0</th>\n",
       "      <td>0</td>\n",
       "      <td>3</td>\n",
       "      <td>male</td>\n",
       "      <td>22.0</td>\n",
       "      <td>1</td>\n",
       "      <td>0</td>\n",
       "      <td>7.2500</td>\n",
       "      <td>S</td>\n",
       "    </tr>\n",
       "    <tr>\n",
       "      <th>1</th>\n",
       "      <td>1</td>\n",
       "      <td>1</td>\n",
       "      <td>female</td>\n",
       "      <td>38.0</td>\n",
       "      <td>1</td>\n",
       "      <td>0</td>\n",
       "      <td>71.2833</td>\n",
       "      <td>C</td>\n",
       "    </tr>\n",
       "    <tr>\n",
       "      <th>2</th>\n",
       "      <td>1</td>\n",
       "      <td>3</td>\n",
       "      <td>female</td>\n",
       "      <td>26.0</td>\n",
       "      <td>0</td>\n",
       "      <td>0</td>\n",
       "      <td>7.9250</td>\n",
       "      <td>S</td>\n",
       "    </tr>\n",
       "    <tr>\n",
       "      <th>3</th>\n",
       "      <td>1</td>\n",
       "      <td>1</td>\n",
       "      <td>female</td>\n",
       "      <td>35.0</td>\n",
       "      <td>1</td>\n",
       "      <td>0</td>\n",
       "      <td>53.1000</td>\n",
       "      <td>S</td>\n",
       "    </tr>\n",
       "    <tr>\n",
       "      <th>4</th>\n",
       "      <td>0</td>\n",
       "      <td>3</td>\n",
       "      <td>male</td>\n",
       "      <td>35.0</td>\n",
       "      <td>0</td>\n",
       "      <td>0</td>\n",
       "      <td>8.0500</td>\n",
       "      <td>S</td>\n",
       "    </tr>\n",
       "  </tbody>\n",
       "</table>\n",
       "</div>"
      ],
      "text/plain": [
       "   Survived  Pclass     Sex   Age  SibSp  Parch     Fare Embarked\n",
       "0         0       3    male  22.0      1      0   7.2500        S\n",
       "1         1       1  female  38.0      1      0  71.2833        C\n",
       "2         1       3  female  26.0      0      0   7.9250        S\n",
       "3         1       1  female  35.0      1      0  53.1000        S\n",
       "4         0       3    male  35.0      0      0   8.0500        S"
      ]
     },
     "execution_count": 8,
     "metadata": {},
     "output_type": "execute_result"
    }
   ],
   "source": [
    "# What about a person's name, ticket number, and passenger ID number? \n",
    "# They're irrelavant for predicting survivability. \n",
    "# And as you recall, the cabin variable is almost all missing values, \n",
    "# so we can just drop all of these.\n",
    "\n",
    "df_train = df_train.drop(['PassengerId','Name','Ticket','Cabin'], axis=1)\n",
    "df_train.head()"
   ]
  },
  {
   "cell_type": "code",
   "execution_count": 9,
   "metadata": {},
   "outputs": [
    {
     "data": {
      "image/png": "[encoded data removed]",
      "text/plain": [
       "<Figure size 432x288 with 1 Axes>"
      ]
     },
     "metadata": {},
     "output_type": "display_data"
    }
   ],
   "source": [
    "ax = df_train[\"Age\"].hist(bins=15, density=True, stacked=True, color='teal', alpha=0.6)\n",
    "df_train[\"Age\"].plot(kind='density', color='teal')\n",
    "ax.set(xlabel='Age')\n",
    "plt.xlim(-10,85)\n",
    "plt.show()\n",
    "\n",
    "#Since \"Age\" is (right) skewed, using the mean might give us biased results by filling in ages that are older than desired. \n",
    "#To deal with this, we'll use the median to impute the missing values.\n",
    "\n"
   ]
  },
  {
   "cell_type": "code",
   "execution_count": 10,
   "metadata": {},
   "outputs": [
    {
     "name": "stdout",
     "output_type": "stream",
     "text": [
      "38.233440860215055\n",
      "29.87763005780347\n"
     ]
    },
    {
     "data": {
      "text/plain": [
       "25.14061971830986"
      ]
     },
     "execution_count": 10,
     "metadata": {},
     "output_type": "execute_result"
    }
   ],
   "source": [
    "# Speaking roughly, we could say that the younger a passenger is, the more likely it is for them \n",
    "# to be in 3rd class. The older a passenger is, the more likely it is for them to be in 1st class. \n",
    "\n",
    "# checking avg age per class\n",
    "\n",
    "#df_train.groupby(['Pclass']).mean() - alternate command for the below 3 lines\n",
    "\n",
    "\n",
    "print(df_train[df_train['Pclass']== 1]['Age'].mean())\n",
    "print(df_train[df_train['Pclass']== 2]['Age'].mean())\n",
    "df_train[df_train['Pclass']== 3]['Age'].mean()"
   ]
  },
  {
   "cell_type": "code",
   "execution_count": 12,
   "metadata": {},
   "outputs": [],
   "source": [
    "# We need to deal with the missing values in the age variable.\n",
    "# From above analysis,  \n",
    "\n",
    "#average age of 1st class passengers is about 38, \n",
    "#2nd class passengers is 29, \n",
    "#3rd class pasengers is 25.\n",
    "\n",
    "#we could say roughly that the younger a passenger is, the more likely it is for them to be in 3rd class. \n",
    "#The older a passenger is, the more likely it is for them to be in 1st class\n",
    "\n",
    "# find each null value in the Age variable and for each null, checks the value of the Pclass \n",
    "# and assign an age value according to the average age of passengers in that class.\n",
    "\n",
    "def age_approx(cols):\n",
    "    Age    = cols[0]\n",
    "    Pclass = cols[1]\n",
    "    \n",
    "    if pd.isnull(Age):\n",
    "        if Pclass == 1:\n",
    "            return 38\n",
    "        elif Pclass == 2:\n",
    "            return 29\n",
    "        else:\n",
    "            return 25\n",
    "    else:\n",
    "        return Age"
   ]
  },
  {
   "cell_type": "code",
   "execution_count": 13,
   "metadata": {},
   "outputs": [],
   "source": [
    "df_train['Age'] = df_train[['Age', 'Pclass']].apply(age_approx, axis=1)"
   ]
  },
  {
   "cell_type": "code",
   "execution_count": 14,
   "metadata": {},
   "outputs": [
    {
     "data": {
      "text/plain": [
       "Survived    0\n",
       "Pclass      0\n",
       "Sex         0\n",
       "Age         0\n",
       "SibSp       0\n",
       "Parch       0\n",
       "Fare        0\n",
       "Embarked    2\n",
       "dtype: int64"
      ]
     },
     "execution_count": 14,
     "metadata": {},
     "output_type": "execute_result"
    }
   ],
   "source": [
    "# check for null again\n",
    "df_train.isnull().sum()"
   ]
  },
  {
   "cell_type": "code",
   "execution_count": 15,
   "metadata": {},
   "outputs": [
    {
     "data": {
      "text/plain": [
       "Survived    0\n",
       "Pclass      0\n",
       "Sex         0\n",
       "Age         0\n",
       "SibSp       0\n",
       "Parch       0\n",
       "Fare        0\n",
       "Embarked    0\n",
       "dtype: int64"
      ]
     },
     "execution_count": 15,
     "metadata": {},
     "output_type": "execute_result"
    }
   ],
   "source": [
    "# There are 2 null values in the embarked variable which can be droppped.\n",
    "\n",
    "df_train.dropna(inplace=True)\n",
    "df_train.isnull().sum()"
   ]
  },
  {
   "cell_type": "code",
   "execution_count": 17,
   "metadata": {},
   "outputs": [],
   "source": [
    "# Converting categorical variables to a dummy indicators ************************"
   ]
  },
  {
   "cell_type": "code",
   "execution_count": 16,
   "metadata": {},
   "outputs": [
    {
     "data": {
      "text/plain": [
       "Survived      int64\n",
       "Pclass        int64\n",
       "Sex          object\n",
       "Age         float64\n",
       "SibSp         int64\n",
       "Parch         int64\n",
       "Fare        float64\n",
       "Embarked     object\n",
       "dtype: object"
      ]
     },
     "execution_count": 16,
     "metadata": {},
     "output_type": "execute_result"
    }
   ],
   "source": [
    "# object signifies they are of categorical/string type data\n",
    "df_train.dtypes"
   ]
  },
  {
   "cell_type": "code",
   "execution_count": 17,
   "metadata": {},
   "outputs": [],
   "source": [
    "#pd.get_dummies(df_train['Sex'], drop_first=True)\n",
    "df_train_dummied = pd.get_dummies(df_train, columns=[\"Sex\"])"
   ]
  },
  {
   "cell_type": "code",
   "execution_count": 18,
   "metadata": {},
   "outputs": [],
   "source": [
    "df_train_dummied = pd.get_dummies(df_train_dummied, columns=[\"Embarked\"])"
   ]
  },
  {
   "cell_type": "code",
   "execution_count": 19,
   "metadata": {},
   "outputs": [
    {
     "data": {
      "text/html": [
       "<div>\n",
       "<style scoped>\n",
       "    .dataframe tbody tr th:only-of-type {\n",
       "        vertical-align: middle;\n",
       "    }\n",
       "\n",
       "    .dataframe tbody tr th {\n",
       "        vertical-align: top;\n",
       "    }\n",
       "\n",
       "    .dataframe thead th {\n",
       "        text-align: right;\n",
       "    }\n",
       "</style>\n",
       "<table border=\"1\" class=\"dataframe\">\n",
       "  <thead>\n",
       "    <tr style=\"text-align: right;\">\n",
       "      <th></th>\n",
       "      <th>Survived</th>\n",
       "      <th>Pclass</th>\n",
       "      <th>Age</th>\n",
       "      <th>SibSp</th>\n",
       "      <th>Parch</th>\n",
       "      <th>Fare</th>\n",
       "      <th>Sex_female</th>\n",
       "      <th>Sex_male</th>\n",
       "      <th>Embarked_C</th>\n",
       "      <th>Embarked_Q</th>\n",
       "      <th>Embarked_S</th>\n",
       "    </tr>\n",
       "  </thead>\n",
       "  <tbody>\n",
       "    <tr>\n",
       "      <th>0</th>\n",
       "      <td>0</td>\n",
       "      <td>3</td>\n",
       "      <td>22.0</td>\n",
       "      <td>1</td>\n",
       "      <td>0</td>\n",
       "      <td>7.2500</td>\n",
       "      <td>0</td>\n",
       "      <td>1</td>\n",
       "      <td>0</td>\n",
       "      <td>0</td>\n",
       "      <td>1</td>\n",
       "    </tr>\n",
       "    <tr>\n",
       "      <th>1</th>\n",
       "      <td>1</td>\n",
       "      <td>1</td>\n",
       "      <td>38.0</td>\n",
       "      <td>1</td>\n",
       "      <td>0</td>\n",
       "      <td>71.2833</td>\n",
       "      <td>1</td>\n",
       "      <td>0</td>\n",
       "      <td>1</td>\n",
       "      <td>0</td>\n",
       "      <td>0</td>\n",
       "    </tr>\n",
       "    <tr>\n",
       "      <th>2</th>\n",
       "      <td>1</td>\n",
       "      <td>3</td>\n",
       "      <td>26.0</td>\n",
       "      <td>0</td>\n",
       "      <td>0</td>\n",
       "      <td>7.9250</td>\n",
       "      <td>1</td>\n",
       "      <td>0</td>\n",
       "      <td>0</td>\n",
       "      <td>0</td>\n",
       "      <td>1</td>\n",
       "    </tr>\n",
       "    <tr>\n",
       "      <th>3</th>\n",
       "      <td>1</td>\n",
       "      <td>1</td>\n",
       "      <td>35.0</td>\n",
       "      <td>1</td>\n",
       "      <td>0</td>\n",
       "      <td>53.1000</td>\n",
       "      <td>1</td>\n",
       "      <td>0</td>\n",
       "      <td>0</td>\n",
       "      <td>0</td>\n",
       "      <td>1</td>\n",
       "    </tr>\n",
       "    <tr>\n",
       "      <th>4</th>\n",
       "      <td>0</td>\n",
       "      <td>3</td>\n",
       "      <td>35.0</td>\n",
       "      <td>0</td>\n",
       "      <td>0</td>\n",
       "      <td>8.0500</td>\n",
       "      <td>0</td>\n",
       "      <td>1</td>\n",
       "      <td>0</td>\n",
       "      <td>0</td>\n",
       "      <td>1</td>\n",
       "    </tr>\n",
       "  </tbody>\n",
       "</table>\n",
       "</div>"
      ],
      "text/plain": [
       "   Survived  Pclass   Age  SibSp  Parch     Fare  Sex_female  Sex_male  \\\n",
       "0         0       3  22.0      1      0   7.2500           0         1   \n",
       "1         1       1  38.0      1      0  71.2833           1         0   \n",
       "2         1       3  26.0      0      0   7.9250           1         0   \n",
       "3         1       1  35.0      1      0  53.1000           1         0   \n",
       "4         0       3  35.0      0      0   8.0500           0         1   \n",
       "\n",
       "   Embarked_C  Embarked_Q  Embarked_S  \n",
       "0           0           0           1  \n",
       "1           1           0           0  \n",
       "2           0           0           1  \n",
       "3           0           0           1  \n",
       "4           0           0           1  "
      ]
     },
     "execution_count": 19,
     "metadata": {},
     "output_type": "execute_result"
    }
   ],
   "source": [
    "df_train_dummied.head()"
   ]
  },
  {
   "cell_type": "code",
   "execution_count": 20,
   "metadata": {
    "scrolled": true
   },
   "outputs": [
    {
     "data": {
      "text/plain": [
       "<AxesSubplot:>"
      ]
     },
     "execution_count": 20,
     "metadata": {},
     "output_type": "execute_result"
    },
    {
     "data": {
      "image/png": "[encoded data removed]",
      "text/plain": [
       "<Figure size 432x288 with 2 Axes>"
      ]
     },
     "metadata": {},
     "output_type": "display_data"
    }
   ],
   "source": [
    "# Checking for independence between features\n",
    "plt.figure(figsize=(6,4))\n",
    "sns.heatmap(df_train_dummied.corr())  "
   ]
  },
  {
   "cell_type": "code",
   "execution_count": 21,
   "metadata": {},
   "outputs": [],
   "source": [
    "used_features =[\n",
    "    \"Pclass\",\n",
    "    \"Age\",\n",
    "    \"SibSp\",\n",
    "    \"Parch\",\n",
    "    \"Sex_female\",\n",
    "    \"Sex_male\",\n",
    "    \"Embarked_C\",\n",
    "    \"Embarked_Q\",\n",
    "    \"Embarked_S\"\n",
    "]\n",
    "\n",
    "X = df_train_dummied[used_features].values\n",
    "y = df_train_dummied['Survived']"
   ]
  },
  {
   "cell_type": "code",
   "execution_count": 22,
   "metadata": {},
   "outputs": [],
   "source": [
    "# Split dataset in training and test datasets\n",
    "X_train, X_test, y_train, y_test = train_test_split(X, y, test_size=0.3, random_state=11)\n"
   ]
  },
  {
   "cell_type": "code",
   "execution_count": 23,
   "metadata": {},
   "outputs": [
    {
     "name": "stdout",
     "output_type": "stream",
     "text": [
      "(622, 9)\n",
      "(267, 9)\n",
      "(622,)\n",
      "(267,)\n"
     ]
    }
   ],
   "source": [
    "print(X_train.shape)\n",
    "print(X_test.shape)\n",
    "print(y_train.shape)\n",
    "print(y_test.shape)"
   ]
  },
  {
   "cell_type": "code",
   "execution_count": 24,
   "metadata": {},
   "outputs": [],
   "source": [
    "# Instantiate the classifier\n",
    "LogReg = LogisticRegression()\n"
   ]
  },
  {
   "cell_type": "code",
   "execution_count": 25,
   "metadata": {},
   "outputs": [
    {
     "data": {
      "text/plain": [
       "LogisticRegression()"
      ]
     },
     "execution_count": 25,
     "metadata": {},
     "output_type": "execute_result"
    }
   ],
   "source": [
    "# Train classifier\n",
    "LogReg.fit(X_train, y_train)"
   ]
  },
  {
   "cell_type": "code",
   "execution_count": 26,
   "metadata": {},
   "outputs": [],
   "source": [
    "y_pred = LogReg.predict(X_test)"
   ]
  },
  {
   "cell_type": "code",
   "execution_count": 27,
   "metadata": {},
   "outputs": [
    {
     "data": {
      "text/plain": [
       "array([[142,  19],\n",
       "       [ 23,  83]], dtype=int64)"
      ]
     },
     "execution_count": 27,
     "metadata": {},
     "output_type": "execute_result"
    }
   ],
   "source": [
    "metrics.confusion_matrix(y_test, y_pred)"
   ]
  },
  {
   "cell_type": "code",
   "execution_count": 28,
   "metadata": {},
   "outputs": [
    {
     "data": {
      "text/plain": [
       "0.8426966292134831"
      ]
     },
     "execution_count": 28,
     "metadata": {},
     "output_type": "execute_result"
    }
   ],
   "source": [
    "metrics.accuracy_score(y_test, y_pred)"
   ]
  },
  {
   "cell_type": "code",
   "execution_count": 29,
   "metadata": {},
   "outputs": [
    {
     "data": {
      "text/plain": [
       "267"
      ]
     },
     "execution_count": 29,
     "metadata": {},
     "output_type": "execute_result"
    }
   ],
   "source": [
    "len(X_test)"
   ]
  },
  {
   "cell_type": "code",
   "execution_count": 30,
   "metadata": {},
   "outputs": [
    {
     "name": "stdout",
     "output_type": "stream",
     "text": [
      "              precision    recall  f1-score   support\n",
      "\n",
      "           0       0.86      0.88      0.87       161\n",
      "           1       0.81      0.78      0.80       106\n",
      "\n",
      "    accuracy                           0.84       267\n",
      "   macro avg       0.84      0.83      0.83       267\n",
      "weighted avg       0.84      0.84      0.84       267\n",
      "\n"
     ]
    }
   ],
   "source": [
    "print(classification_report(y_test, y_pred))"
   ]
  },
  {
   "cell_type": "code",
   "execution_count": 31,
   "metadata": {},
   "outputs": [
    {
     "data": {
      "text/plain": [
       "array([[-1.17972291, -0.03890634, -0.25364068, -0.14331673,  1.18410448,\n",
       "        -1.18676779,  0.18160616,  0.1395394 , -0.32380887]])"
      ]
     },
     "execution_count": 31,
     "metadata": {},
     "output_type": "execute_result"
    }
   ],
   "source": [
    "LogReg.coef_"
   ]
  },
  {
   "cell_type": "code",
   "execution_count": 32,
   "metadata": {},
   "outputs": [
    {
     "data": {
      "text/plain": [
       "array([3.95285918])"
      ]
     },
     "execution_count": 32,
     "metadata": {},
     "output_type": "execute_result"
    }
   ],
   "source": [
    "LogReg.intercept_"
   ]
  },
  {
   "cell_type": "code",
   "execution_count": 33,
   "metadata": {},
   "outputs": [
    {
     "data": {
      "text/plain": [
       "Index(['Pclass', 'Age', 'SibSp', 'Parch', 'Sex_female', 'Sex_male',\n",
       "       'Embarked_C', 'Embarked_Q', 'Embarked_S'],\n",
       "      dtype='object')"
      ]
     },
     "execution_count": 33,
     "metadata": {},
     "output_type": "execute_result"
    }
   ],
   "source": [
    "df_train_dummied[used_features].columns"
   ]
  },
  {
   "cell_type": "code",
   "execution_count": 34,
   "metadata": {},
   "outputs": [
    {
     "data": {
      "text/plain": [
       "array([[0.36215986, 0.63784014],\n",
       "       [0.9334297 , 0.0665703 ],\n",
       "       [0.55376171, 0.44623829],\n",
       "       [0.47996121, 0.52003879],\n",
       "       [0.84150216, 0.15849784],\n",
       "       [0.84177257, 0.15822743],\n",
       "       [0.56248544, 0.43751456],\n",
       "       [0.13977711, 0.86022289],\n",
       "       [0.06620603, 0.93379397],\n",
       "       [0.83288265, 0.16711735],\n",
       "       [0.55520942, 0.44479058],\n",
       "       [0.8624876 , 0.1375124 ],\n",
       "       [0.83288265, 0.16711735],\n",
       "       [0.15564036, 0.84435964],\n",
       "       [0.23222215, 0.76777785],\n",
       "       [0.85304193, 0.14695807],\n",
       "       [0.86527797, 0.13472203],\n",
       "       [0.57605371, 0.42394629],\n",
       "       [0.07252941, 0.92747059],\n",
       "       [0.91228737, 0.08771263],\n",
       "       [0.40918239, 0.59081761],\n",
       "       [0.63074018, 0.36925982],\n",
       "       [0.87145883, 0.12854117],\n",
       "       [0.80959962, 0.19040038],\n",
       "       [0.88790766, 0.11209234],\n",
       "       [0.8873308 , 0.1126692 ],\n",
       "       [0.88790766, 0.11209234],\n",
       "       [0.46648142, 0.53351858],\n",
       "       [0.69253748, 0.30746252],\n",
       "       [0.93393238, 0.06606762],\n",
       "       [0.08265826, 0.91734174],\n",
       "       [0.72744531, 0.27255469],\n",
       "       [0.90076172, 0.09923828],\n",
       "       [0.58574747, 0.41425253],\n",
       "       [0.88790766, 0.11209234],\n",
       "       [0.94314765, 0.05685235],\n",
       "       [0.36038998, 0.63961002],\n",
       "       [0.91982004, 0.08017996],\n",
       "       [0.89900919, 0.10099081],\n",
       "       [0.91228737, 0.08771263],\n",
       "       [0.06865231, 0.93134769],\n",
       "       [0.96746492, 0.03253508],\n",
       "       [0.8624876 , 0.1375124 ],\n",
       "       [0.29538776, 0.70461224],\n",
       "       [0.54129288, 0.45870712],\n",
       "       [0.28319022, 0.71680978],\n",
       "       [0.31763196, 0.68236804],\n",
       "       [0.76398977, 0.23601023],\n",
       "       [0.48660311, 0.51339689],\n",
       "       [0.10712031, 0.89287969],\n",
       "       [0.81662093, 0.18337907],\n",
       "       [0.71704385, 0.28295615],\n",
       "       [0.25124429, 0.74875571],\n",
       "       [0.6814775 , 0.3185225 ],\n",
       "       [0.43017802, 0.56982198],\n",
       "       [0.82509126, 0.17490874],\n",
       "       [0.12995573, 0.87004427],\n",
       "       [0.83288265, 0.16711735],\n",
       "       [0.8624876 , 0.1375124 ],\n",
       "       [0.89900919, 0.10099081],\n",
       "       [0.20353724, 0.79646276],\n",
       "       [0.20353724, 0.79646276],\n",
       "       [0.11403085, 0.88596915],\n",
       "       [0.88230397, 0.11769603],\n",
       "       [0.60127501, 0.39872499],\n",
       "       [0.92118867, 0.07881133],\n",
       "       [0.42811804, 0.57188196],\n",
       "       [0.150969  , 0.849031  ],\n",
       "       [0.05377795, 0.94622205],\n",
       "       [0.82694514, 0.17305486],\n",
       "       [0.88204446, 0.11795554],\n",
       "       [0.8624876 , 0.1375124 ],\n",
       "       [0.07825891, 0.92174109],\n",
       "       [0.26015046, 0.73984954],\n",
       "       [0.17946789, 0.82053211],\n",
       "       [0.9292567 , 0.0707433 ],\n",
       "       [0.30327998, 0.69672002],\n",
       "       [0.39404152, 0.60595848],\n",
       "       [0.1629179 , 0.8370821 ],\n",
       "       [0.43469717, 0.56530283],\n",
       "       [0.83288265, 0.16711735],\n",
       "       [0.06535053, 0.93464947],\n",
       "       [0.0382799 , 0.9617201 ],\n",
       "       [0.05245872, 0.94754128],\n",
       "       [0.05644443, 0.94355557],\n",
       "       [0.88790766, 0.11209234],\n",
       "       [0.84557416, 0.15442584],\n",
       "       [0.88790766, 0.11209234],\n",
       "       [0.87145883, 0.12854117],\n",
       "       [0.84809729, 0.15190271],\n",
       "       [0.72995132, 0.27004868],\n",
       "       [0.73989968, 0.26010032],\n",
       "       [0.7594849 , 0.2405151 ],\n",
       "       [0.88790766, 0.11209234],\n",
       "       [0.31763196, 0.68236804],\n",
       "       [0.87992626, 0.12007374],\n",
       "       [0.05855263, 0.94144737],\n",
       "       [0.91535109, 0.08464891],\n",
       "       [0.90912377, 0.09087623],\n",
       "       [0.36779792, 0.63220208],\n",
       "       [0.35830576, 0.64169424],\n",
       "       [0.84988211, 0.15011789],\n",
       "       [0.07549807, 0.92450193],\n",
       "       [0.91386049, 0.08613951],\n",
       "       [0.89972365, 0.10027635],\n",
       "       [0.32844374, 0.67155626],\n",
       "       [0.48303415, 0.51696585],\n",
       "       [0.82694514, 0.17305486],\n",
       "       [0.61187009, 0.38812991],\n",
       "       [0.87665056, 0.12334944],\n",
       "       [0.1052033 , 0.8947967 ],\n",
       "       [0.89172187, 0.10827813],\n",
       "       [0.16082207, 0.83917793],\n",
       "       [0.31942625, 0.68057375],\n",
       "       [0.47332639, 0.52667361],\n",
       "       [0.04786326, 0.95213674],\n",
       "       [0.87438433, 0.12561567],\n",
       "       [0.94671116, 0.05328884],\n",
       "       [0.82694514, 0.17305486],\n",
       "       [0.86707961, 0.13292039],\n",
       "       [0.83288265, 0.16711735],\n",
       "       [0.91228737, 0.08771263],\n",
       "       [0.92396739, 0.07603261],\n",
       "       [0.8578078 , 0.1421922 ],\n",
       "       [0.91831738, 0.08168262],\n",
       "       [0.68465043, 0.31534957],\n",
       "       [0.88790766, 0.11209234],\n",
       "       [0.74141598, 0.25858402],\n",
       "       [0.86744344, 0.13255656],\n",
       "       [0.32523597, 0.67476403],\n",
       "       [0.03897445, 0.96102555],\n",
       "       [0.52477029, 0.47522971],\n",
       "       [0.2726792 , 0.7273208 ],\n",
       "       [0.62165919, 0.37834081],\n",
       "       [0.49780489, 0.50219511],\n",
       "       [0.31763196, 0.68236804],\n",
       "       [0.81662093, 0.18337907],\n",
       "       [0.81193112, 0.18806888],\n",
       "       [0.13441845, 0.86558155],\n",
       "       [0.18456965, 0.81543035],\n",
       "       [0.74731697, 0.25268303],\n",
       "       [0.82694514, 0.17305486],\n",
       "       [0.43298113, 0.56701887],\n",
       "       [0.42811804, 0.57188196],\n",
       "       [0.92396739, 0.07603261],\n",
       "       [0.88638681, 0.11361319],\n",
       "       [0.93882856, 0.06117144],\n",
       "       [0.83288265, 0.16711735],\n",
       "       [0.12995573, 0.87004427],\n",
       "       [0.95610678, 0.04389322],\n",
       "       [0.37742367, 0.62257633],\n",
       "       [0.87575443, 0.12424557],\n",
       "       [0.42066814, 0.57933186],\n",
       "       [0.07180883, 0.92819117],\n",
       "       [0.882685  , 0.117315  ],\n",
       "       [0.73234265, 0.26765735],\n",
       "       [0.07285175, 0.92714825],\n",
       "       [0.91228737, 0.08771263],\n",
       "       [0.17322943, 0.82677057],\n",
       "       [0.06774429, 0.93225571],\n",
       "       [0.86703726, 0.13296274],\n",
       "       [0.63967007, 0.36032993],\n",
       "       [0.88230397, 0.11769603],\n",
       "       [0.39391861, 0.60608139],\n",
       "       [0.11731878, 0.88268122],\n",
       "       [0.88397657, 0.11602343],\n",
       "       [0.84804995, 0.15195005],\n",
       "       [0.93000388, 0.06999612],\n",
       "       [0.22993008, 0.77006992],\n",
       "       [0.80760315, 0.19239685],\n",
       "       [0.9292567 , 0.0707433 ],\n",
       "       [0.16144908, 0.83855092],\n",
       "       [0.52864385, 0.47135615],\n",
       "       [0.86527797, 0.13472203],\n",
       "       [0.88790766, 0.11209234],\n",
       "       [0.91535109, 0.08464891],\n",
       "       [0.82694514, 0.17305486],\n",
       "       [0.55376171, 0.44623829],\n",
       "       [0.64632207, 0.35367793],\n",
       "       [0.12995573, 0.87004427],\n",
       "       [0.82694514, 0.17305486],\n",
       "       [0.11731878, 0.88268122],\n",
       "       [0.5888463 , 0.4111537 ],\n",
       "       [0.87004839, 0.12995161],\n",
       "       [0.89365713, 0.10634287],\n",
       "       [0.88790766, 0.11209234],\n",
       "       [0.24056269, 0.75943731],\n",
       "       [0.41575267, 0.58424733],\n",
       "       [0.44126061, 0.55873939],\n",
       "       [0.90248713, 0.09751287],\n",
       "       [0.06697106, 0.93302894],\n",
       "       [0.82057048, 0.17942952],\n",
       "       [0.83288265, 0.16711735],\n",
       "       [0.20151311, 0.79848689],\n",
       "       [0.88790766, 0.11209234],\n",
       "       [0.64964462, 0.35035538],\n",
       "       [0.72379468, 0.27620532],\n",
       "       [0.28658357, 0.71341643],\n",
       "       [0.03897445, 0.96102555],\n",
       "       [0.88790766, 0.11209234],\n",
       "       [0.867919  , 0.132081  ],\n",
       "       [0.96982708, 0.03017292],\n",
       "       [0.83288265, 0.16711735],\n",
       "       [0.36514505, 0.63485495],\n",
       "       [0.88790766, 0.11209234],\n",
       "       [0.23980676, 0.76019324],\n",
       "       [0.94757249, 0.05242751],\n",
       "       [0.94909193, 0.05090807],\n",
       "       [0.55376171, 0.44623829],\n",
       "       [0.06075548, 0.93924452],\n",
       "       [0.9292567 , 0.0707433 ],\n",
       "       [0.88790766, 0.11209234],\n",
       "       [0.48808055, 0.51191945],\n",
       "       [0.60607417, 0.39392583],\n",
       "       [0.40973157, 0.59026843],\n",
       "       [0.69812451, 0.30187549],\n",
       "       [0.89172187, 0.10827813],\n",
       "       [0.7644284 , 0.2355716 ],\n",
       "       [0.98769421, 0.01230579],\n",
       "       [0.69253748, 0.30746252],\n",
       "       [0.82694514, 0.17305486],\n",
       "       [0.20991712, 0.79008288],\n",
       "       [0.94356945, 0.05643055],\n",
       "       [0.73486369, 0.26513631],\n",
       "       [0.92645753, 0.07354247],\n",
       "       [0.4538509 , 0.5461491 ],\n",
       "       [0.81008631, 0.18991369],\n",
       "       [0.06421736, 0.93578264],\n",
       "       [0.36038998, 0.63961002],\n",
       "       [0.76172611, 0.23827389],\n",
       "       [0.69690001, 0.30309999],\n",
       "       [0.43476862, 0.56523138],\n",
       "       [0.88790766, 0.11209234],\n",
       "       [0.88397657, 0.11602343],\n",
       "       [0.30583953, 0.69416047],\n",
       "       [0.59669412, 0.40330588],\n",
       "       [0.39754647, 0.60245353],\n",
       "       [0.9451982 , 0.0548018 ],\n",
       "       [0.16574263, 0.83425737],\n",
       "       [0.89172187, 0.10827813],\n",
       "       [0.98158414, 0.01841586],\n",
       "       [0.10949772, 0.89050228],\n",
       "       [0.94264634, 0.05735366],\n",
       "       [0.37282672, 0.62717328],\n",
       "       [0.61885552, 0.38114448],\n",
       "       [0.3019304 , 0.6980696 ],\n",
       "       [0.92308226, 0.07691774],\n",
       "       [0.82694514, 0.17305486],\n",
       "       [0.95610678, 0.04389322],\n",
       "       [0.55376171, 0.44623829],\n",
       "       [0.08265826, 0.91734174],\n",
       "       [0.45681237, 0.54318763],\n",
       "       [0.75226466, 0.24773534],\n",
       "       [0.89172187, 0.10827813],\n",
       "       [0.2498105 , 0.7501895 ],\n",
       "       [0.88790766, 0.11209234],\n",
       "       [0.207883  , 0.792117  ],\n",
       "       [0.28205897, 0.71794103],\n",
       "       [0.94102516, 0.05897484],\n",
       "       [0.88790766, 0.11209234],\n",
       "       [0.87575443, 0.12424557],\n",
       "       [0.71163791, 0.28836209],\n",
       "       [0.88397657, 0.11602343],\n",
       "       [0.65143921, 0.34856079],\n",
       "       [0.30569982, 0.69430018],\n",
       "       [0.3749509 , 0.6250491 ],\n",
       "       [0.37557058, 0.62442942]])"
      ]
     },
     "execution_count": 34,
     "metadata": {},
     "output_type": "execute_result"
    }
   ],
   "source": [
    "LogReg.predict_proba(X_test)"
   ]
  },
  {
   "cell_type": "code",
   "execution_count": null,
   "metadata": {},
   "outputs": [],
   "source": []
  }
 ],
 "metadata": {
  "kernelspec": {
   "display_name": "Python 3 (ipykernel)",
   "language": "python",
   "name": "python3"
  },
  "language_info": {
   "codemirror_mode": {
    "name": "ipython",
    "version": 3
   },
   "file_extension": ".py",
   "mimetype": "text/x-python",
   "name": "python",
   "nbconvert_exporter": "python",
   "pygments_lexer": "ipython3",
   "version": "3.9.12"
  }
 },
 "nbformat": 4,
 "nbformat_minor": 2
}
